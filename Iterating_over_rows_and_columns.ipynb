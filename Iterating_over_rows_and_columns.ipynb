{
 "cells": [
  {
   "cell_type": "markdown",
   "id": "376ebdcd",
   "metadata": {},
   "source": [
    "__Iterating_over_rows_and_columns__"
   ]
  },
  {
   "cell_type": "markdown",
   "id": "6a41ea64",
   "metadata": {},
   "source": [
    "Iteration is a general term for taking each item of something, one after another. Pandas DataFrame consists of rows and columns so, in order to iterate over dataframe, we have to iterate a dataframe like a dictionary. In a dictionary, we iterate over the keys of the object in the same way we have to iterate in dataframe"
   ]
  },
  {
   "cell_type": "code",
   "execution_count": 1,
   "id": "b1050a41",
   "metadata": {},
   "outputs": [
    {
     "name": "stdout",
     "output_type": "stream",
     "text": [
      "   employee   id      city  Department  Age\n",
      "0     Umesh  101      pune       SALES   20\n",
      "1    Prasad  102    alandi          HR   19\n",
      "2  Sambhaji  103    satara  PRODUCTION   20\n",
      "3        Om  104    mumbai  ACCOUNTANT   22\n",
      "4    Vikram  105  bengluar     TESTING   21\n",
      "5     Tejas  106     delhi  DEVELOPERS   22\n",
      "6   Prafull  107    kolkta          QA   21\n"
     ]
    }
   ],
   "source": [
    "import pandas as pd\n",
    "import numpy as np\n",
    "\n",
    "df=pd.read_csv(\"employee_info.csv\")\n",
    "print(df)"
   ]
  },
  {
   "cell_type": "markdown",
   "id": "8ff1d17d",
   "metadata": {},
   "source": [
    "__Iterating rows__"
   ]
  },
  {
   "cell_type": "markdown",
   "id": "a6253ef1",
   "metadata": {},
   "source": [
    "Iterating over rows :<br>\n",
    "In order to iterate over rows, we can use three function iteritems(), iterrows(), itertuples() . These three function will help in iteration over rows.  "
   ]
  },
  {
   "cell_type": "markdown",
   "id": "6cd3d72d",
   "metadata": {},
   "source": [
    "Iteration over rows using iterrows() :<br>\n",
    "In order to iterate over rows, we apply a iterrows() function this function returns each index value along with a series containing the data in each row."
   ]
  },
  {
   "cell_type": "code",
   "execution_count": 2,
   "id": "46fbdcbd",
   "metadata": {},
   "outputs": [
    {
     "name": "stdout",
     "output_type": "stream",
     "text": [
      "0 employee      Umesh\n",
      "id              101\n",
      "city           pune\n",
      "Department    SALES\n",
      "Age              20\n",
      "Name: 0, dtype: object\n",
      "\n",
      "1 employee      Prasad\n",
      "id               102\n",
      "city          alandi\n",
      "Department        HR\n",
      "Age               19\n",
      "Name: 1, dtype: object\n",
      "\n",
      "2 employee        Sambhaji\n",
      "id                   103\n",
      "city              satara\n",
      "Department    PRODUCTION\n",
      "Age                   20\n",
      "Name: 2, dtype: object\n",
      "\n",
      "3 employee              Om\n",
      "id                   104\n",
      "city              mumbai\n",
      "Department    ACCOUNTANT\n",
      "Age                   22\n",
      "Name: 3, dtype: object\n",
      "\n",
      "4 employee        Vikram\n",
      "id                 105\n",
      "city          bengluar\n",
      "Department     TESTING\n",
      "Age                 21\n",
      "Name: 4, dtype: object\n",
      "\n",
      "5 employee           Tejas\n",
      "id                   106\n",
      "city               delhi\n",
      "Department    DEVELOPERS\n",
      "Age                   22\n",
      "Name: 5, dtype: object\n",
      "\n",
      "6 employee      Prafull\n",
      "id                107\n",
      "city           kolkta\n",
      "Department         QA\n",
      "Age                21\n",
      "Name: 6, dtype: object\n",
      "\n"
     ]
    }
   ],
   "source": [
    "for i,j in df.iterrows():\n",
    "    print(i,j)\n",
    "    print()"
   ]
  },
  {
   "cell_type": "markdown",
   "id": "04dafff4",
   "metadata": {},
   "source": [
    "__Iteration over rows using iteritems()__<br>\n",
    "In order to iterate over rows, we use iteritems() function this function iterates over each column as key, value pair with the label as key, and column value as a Series object"
   ]
  },
  {
   "cell_type": "code",
   "execution_count": 3,
   "id": "1d25ea91",
   "metadata": {},
   "outputs": [
    {
     "name": "stdout",
     "output_type": "stream",
     "text": [
      "employee 0       Umesh\n",
      "1      Prasad\n",
      "2    Sambhaji\n",
      "3          Om\n",
      "4      Vikram\n",
      "5       Tejas\n",
      "6     Prafull\n",
      "Name: employee, dtype: object\n",
      "\n",
      "id 0    101\n",
      "1    102\n",
      "2    103\n",
      "3    104\n",
      "4    105\n",
      "5    106\n",
      "6    107\n",
      "Name: id, dtype: int64\n",
      "\n",
      "city 0        pune\n",
      "1      alandi\n",
      "2      satara\n",
      "3      mumbai\n",
      "4    bengluar\n",
      "5       delhi\n",
      "6      kolkta\n",
      "Name: city, dtype: object\n",
      "\n",
      "Department 0         SALES\n",
      "1            HR\n",
      "2    PRODUCTION\n",
      "3    ACCOUNTANT\n",
      "4       TESTING\n",
      "5    DEVELOPERS\n",
      "6            QA\n",
      "Name: Department, dtype: object\n",
      "\n",
      "Age 0    20\n",
      "1    19\n",
      "2    20\n",
      "3    22\n",
      "4    21\n",
      "5    22\n",
      "6    21\n",
      "Name: Age, dtype: int64\n",
      "\n"
     ]
    },
    {
     "name": "stderr",
     "output_type": "stream",
     "text": [
      "C:\\Users\\DELL\\AppData\\Local\\Temp\\ipykernel_15056\\3213643302.py:1: FutureWarning: iteritems is deprecated and will be removed in a future version. Use .items instead.\n",
      "  for key,value in df.iteritems():\n"
     ]
    }
   ],
   "source": [
    "for key,value in df.iteritems():\n",
    "    print(key,value)\n",
    "    print()"
   ]
  },
  {
   "cell_type": "markdown",
   "id": "f9ddfa2c",
   "metadata": {},
   "source": [
    "__Iteration over rows using itertuples()__<br>\n",
    "In order to iterate over rows, we apply a function itertuples() this function return a tuple for each row in the DataFrame. The first element of the tuple will be the row’s corresponding index value, while the remaining values are the row value"
   ]
  },
  {
   "cell_type": "code",
   "execution_count": 4,
   "id": "5f1b2699",
   "metadata": {},
   "outputs": [
    {
     "name": "stdout",
     "output_type": "stream",
     "text": [
      "Pandas(Index=0, employee='Umesh', id=101, city='pune', Department='SALES', Age=20)\n",
      "\n",
      "Pandas(Index=1, employee='Prasad', id=102, city='alandi', Department='HR', Age=19)\n",
      "\n",
      "Pandas(Index=2, employee='Sambhaji', id=103, city='satara', Department='PRODUCTION', Age=20)\n",
      "\n",
      "Pandas(Index=3, employee='Om', id=104, city='mumbai', Department='ACCOUNTANT', Age=22)\n",
      "\n",
      "Pandas(Index=4, employee='Vikram', id=105, city='bengluar', Department='TESTING', Age=21)\n",
      "\n",
      "Pandas(Index=5, employee='Tejas', id=106, city='delhi', Department='DEVELOPERS', Age=22)\n",
      "\n",
      "Pandas(Index=6, employee='Prafull', id=107, city='kolkta', Department='QA', Age=21)\n",
      "\n"
     ]
    }
   ],
   "source": [
    "for i in df.itertuples():\n",
    "    print(i)\n",
    "    print()"
   ]
  },
  {
   "cell_type": "markdown",
   "id": "17dc38be",
   "metadata": {},
   "source": [
    "__Iterating over Columns :__ <br>\n",
    "In order to iterate over columns, we need to create a list of dataframe columns and then iterating through that list to pull out the dataframe columns"
   ]
  },
  {
   "cell_type": "code",
   "execution_count": 5,
   "id": "48d39c4f",
   "metadata": {},
   "outputs": [
    {
     "name": "stdout",
     "output_type": "stream",
     "text": [
      "employee\n",
      "id\n",
      "city\n",
      "Department\n",
      "Age\n"
     ]
    }
   ],
   "source": [
    "'''\n",
    "Now we iterate through columns in order to iterate through \n",
    "columns we first create a list of dataframe columns and then iterate through list\n",
    "'''\n",
    "\n",
    "columns=list(df)\n",
    "for i in columns:\n",
    "    print(i)"
   ]
  },
  {
   "cell_type": "code",
   "execution_count": 6,
   "id": "bbaf2fba",
   "metadata": {},
   "outputs": [
    {
     "name": "stdout",
     "output_type": "stream",
     "text": [
      "Om\n",
      "104\n",
      "mumbai\n",
      "ACCOUNTANT\n",
      "22\n"
     ]
    }
   ],
   "source": [
    "#Now we access the value\n",
    "for j in columns:\n",
    "    print(df[j][3])"
   ]
  },
  {
   "cell_type": "code",
   "execution_count": null,
   "id": "3bb8352f",
   "metadata": {},
   "outputs": [],
   "source": []
  }
 ],
 "metadata": {
  "kernelspec": {
   "display_name": "Python 3 (ipykernel)",
   "language": "python",
   "name": "python3"
  },
  "language_info": {
   "codemirror_mode": {
    "name": "ipython",
    "version": 3
   },
   "file_extension": ".py",
   "mimetype": "text/x-python",
   "name": "python",
   "nbconvert_exporter": "python",
   "pygments_lexer": "ipython3",
   "version": "3.10.7"
  }
 },
 "nbformat": 4,
 "nbformat_minor": 5
}
