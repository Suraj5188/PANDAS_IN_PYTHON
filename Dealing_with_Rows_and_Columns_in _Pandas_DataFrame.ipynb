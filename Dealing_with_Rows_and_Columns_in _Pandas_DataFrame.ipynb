{
 "cells": [
  {
   "cell_type": "code",
   "execution_count": 1,
   "id": "7243290d",
   "metadata": {},
   "outputs": [
    {
     "name": "stdout",
     "output_type": "stream",
     "text": [
      "   employee   id      city\n",
      "0     Umesh  101      pune\n",
      "1    Prasad  102    alandi\n",
      "2  Sambhaji  103    satara\n",
      "3        Om  104    mumbai\n",
      "4    Vikram  105  bengluar\n",
      "5     Tejas  106     delhi\n",
      "6   Prafull  107    kolkta\n"
     ]
    }
   ],
   "source": [
    "import numpy as np\n",
    "import pandas as pd\n",
    "data={\"employee\":[\"Umesh\",\"Prasad\",\"Sambhaji\",\"Om\",\"Vikram\",\"Tejas\",\"Prafull\"],\n",
    "      \"id\":[101,102,103,104,105,106,107],\n",
    "       \"city\":[\"pune\",\"alandi\",\"satara\",\"mumbai\",\"bengluar\",\"delhi\",\"kolkta\"]\n",
    "      }\n",
    "df=pd.DataFrame(data)\n",
    "print(df)"
   ]
  },
  {
   "cell_type": "markdown",
   "id": "ed76bf55",
   "metadata": {},
   "source": [
    "__Selection Only Columns__"
   ]
  },
  {
   "cell_type": "code",
   "execution_count": 2,
   "id": "58961cc5",
   "metadata": {},
   "outputs": [
    {
     "name": "stdout",
     "output_type": "stream",
     "text": [
      "   employee   id\n",
      "0     Umesh  101\n",
      "1    Prasad  102\n",
      "2  Sambhaji  103\n",
      "3        Om  104\n",
      "4    Vikram  105\n",
      "5     Tejas  106\n",
      "6   Prafull  107\n"
     ]
    }
   ],
   "source": [
    "print(df[['employee','id']])"
   ]
  },
  {
   "cell_type": "markdown",
   "id": "07705a88",
   "metadata": {},
   "source": [
    "__Adding Columns in data frame__"
   ]
  },
  {
   "cell_type": "code",
   "execution_count": 3,
   "id": "f7718449",
   "metadata": {},
   "outputs": [
    {
     "name": "stdout",
     "output_type": "stream",
     "text": [
      "   employee   id      city  Department\n",
      "0     Umesh  101      pune       SALES\n",
      "1    Prasad  102    alandi          HR\n",
      "2  Sambhaji  103    satara  PRODUCTION\n",
      "3        Om  104    mumbai  ACCOUNTANT\n",
      "4    Vikram  105  bengluar     TESTING\n",
      "5     Tejas  106     delhi  DEVELOPERS\n",
      "6   Prafull  107    kolkta          QA\n"
     ]
    }
   ],
   "source": [
    "department=['SALES','HR','PRODUCTION','ACCOUNTANT','TESTING','DEVELOPERS','QA']\n",
    "df['Department']=department\n",
    "print(df)"
   ]
  },
  {
   "cell_type": "code",
   "execution_count": 4,
   "id": "c6d5c780",
   "metadata": {},
   "outputs": [
    {
     "name": "stdout",
     "output_type": "stream",
     "text": [
      "   employee   id      city  Department  Age\n",
      "0     Umesh  101      pune       SALES   20\n",
      "1    Prasad  102    alandi          HR   19\n",
      "2  Sambhaji  103    satara  PRODUCTION   20\n",
      "3        Om  104    mumbai  ACCOUNTANT   22\n",
      "4    Vikram  105  bengluar     TESTING   21\n",
      "5     Tejas  106     delhi  DEVELOPERS   22\n",
      "6   Prafull  107    kolkta          QA   21\n"
     ]
    }
   ],
   "source": [
    "#we add another column\n",
    "age=[20,19,20,22,21,22,21]\n",
    "df['Age']=age\n",
    "print(df)"
   ]
  },
  {
   "cell_type": "markdown",
   "id": "8ca75a5b",
   "metadata": {},
   "source": [
    "  __Value Deletion(Dropping Rows)__"
   ]
  },
  {
   "cell_type": "code",
   "execution_count": 5,
   "id": "dff89fdd",
   "metadata": {},
   "outputs": [],
   "source": [
    "#we are deleting column by using drop\n",
    "import numpy as np\n",
    "import pandas as pd\n",
    "df.to_csv(\"employee_info.csv\",index=False)"
   ]
  },
  {
   "cell_type": "code",
   "execution_count": 6,
   "id": "b1691140",
   "metadata": {},
   "outputs": [
    {
     "name": "stdout",
     "output_type": "stream",
     "text": [
      "   employee   id      city  Department  Age\n",
      "0     Umesh  101      pune       SALES   20\n",
      "1    Prasad  102    alandi          HR   19\n",
      "2  Sambhaji  103    satara  PRODUCTION   20\n",
      "3        Om  104    mumbai  ACCOUNTANT   22\n",
      "4    Vikram  105  bengluar     TESTING   21\n",
      "5     Tejas  106     delhi  DEVELOPERS   22\n",
      "6   Prafull  107    kolkta          QA   21\n"
     ]
    }
   ],
   "source": [
    "print(df)"
   ]
  },
  {
   "cell_type": "code",
   "execution_count": 7,
   "id": "3e4741dd",
   "metadata": {},
   "outputs": [
    {
     "name": "stdout",
     "output_type": "stream",
     "text": [
      "           id    city  Department  Age\n",
      "employee                              \n",
      "Prasad    102  alandi          HR   19\n",
      "Sambhaji  103  satara  PRODUCTION   20\n",
      "Om        104  mumbai  ACCOUNTANT   22\n",
      "Tejas     106   delhi  DEVELOPERS   22\n",
      "Prafull   107  kolkta          QA   21\n"
     ]
    }
   ],
   "source": [
    "#now read the csv file\n",
    "data1=pd.read_csv(\"employee_info.csv\",index_col='employee')\n",
    "\n",
    "#droppig passed value\n",
    "data1.drop(['Umesh','Vikram'],inplace=True)\n",
    "\n",
    "print(data1)"
   ]
  },
  {
   "cell_type": "markdown",
   "id": "fd9baec6",
   "metadata": {},
   "source": [
    "__Now we drop Columns__"
   ]
  },
  {
   "cell_type": "code",
   "execution_count": 8,
   "id": "a7c402c8",
   "metadata": {},
   "outputs": [],
   "source": [
    "data1.drop(['id'],inplace=True,axis=1)#axis=0(For Rows) & axis=1(For Columns)"
   ]
  },
  {
   "cell_type": "code",
   "execution_count": 9,
   "id": "e636cba1",
   "metadata": {},
   "outputs": [
    {
     "name": "stdout",
     "output_type": "stream",
     "text": [
      "            city  Department  Age\n",
      "employee                         \n",
      "Prasad    alandi          HR   19\n",
      "Sambhaji  satara  PRODUCTION   20\n",
      "Om        mumbai  ACCOUNTANT   22\n",
      "Tejas      delhi  DEVELOPERS   22\n",
      "Prafull   kolkta          QA   21\n"
     ]
    }
   ],
   "source": [
    "print(data1)"
   ]
  },
  {
   "cell_type": "markdown",
   "id": "8cf356fc",
   "metadata": {},
   "source": [
    "__We will try to delete value if what value is not present__"
   ]
  },
  {
   "cell_type": "code",
   "execution_count": 10,
   "id": "fa164fe0",
   "metadata": {},
   "outputs": [
    {
     "name": "stdout",
     "output_type": "stream",
     "text": [
      "            city  Department  Age\n",
      "employee                         \n",
      "Prasad    alandi          HR   19\n",
      "Sambhaji  satara  PRODUCTION   20\n",
      "Om        mumbai  ACCOUNTANT   22\n",
      "Tejas      delhi  DEVELOPERS   22\n",
      "Prafull   kolkta          QA   21\n"
     ]
    }
   ],
   "source": [
    "data1.drop(['suraj'],inplace=True,errors='ignore')\n",
    "print(data1)"
   ]
  },
  {
   "cell_type": "markdown",
   "id": "aeb97cd7",
   "metadata": {},
   "source": [
    "__loc Methood__\n",
    "Pandas provide a unique method to retrieve rows from a Data frame. DataFrame.loc[] method is a method that takes only index labels and returns row or dataframe if the index label exists in the caller data frame.\n",
    "\n",
    "Syntax: pandas.DataFrame.loc[]"
   ]
  },
  {
   "cell_type": "code",
   "execution_count": 11,
   "id": "56e2422d",
   "metadata": {},
   "outputs": [
    {
     "name": "stdout",
     "output_type": "stream",
     "text": [
      "   employee   id      city  Department  Age\n",
      "0     Umesh  101      pune       SALES   20\n",
      "1    Prasad  102    alandi          HR   19\n",
      "2  Sambhaji  103    satara  PRODUCTION   20\n",
      "3        Om  104    mumbai  ACCOUNTANT   22\n",
      "4    Vikram  105  bengluar     TESTING   21\n",
      "5     Tejas  106     delhi  DEVELOPERS   22\n",
      "6   Prafull  107    kolkta          QA   21\n"
     ]
    }
   ],
   "source": [
    "#retrieving row by loc method\n",
    "print(df)"
   ]
  },
  {
   "cell_type": "code",
   "execution_count": 12,
   "id": "2ff6c7e5",
   "metadata": {},
   "outputs": [
    {
     "name": "stdout",
     "output_type": "stream",
     "text": [
      "            city  Department  Age\n",
      "employee                         \n",
      "Prasad    alandi          HR   19\n",
      "Sambhaji  satara  PRODUCTION   20\n",
      "Om        mumbai  ACCOUNTANT   22\n",
      "Tejas      delhi  DEVELOPERS   22\n",
      "Prafull   kolkta          QA   21\n"
     ]
    }
   ],
   "source": [
    "print(data1)"
   ]
  },
  {
   "cell_type": "code",
   "execution_count": 13,
   "id": "75007d34",
   "metadata": {},
   "outputs": [
    {
     "name": "stdout",
     "output_type": "stream",
     "text": [
      "city          alandi\n",
      "Department        HR\n",
      "Age               19\n",
      "Name: Prasad, dtype: object\n"
     ]
    }
   ],
   "source": [
    "rs1=data1.loc['Prasad']\n",
    "print(rs1)"
   ]
  },
  {
   "cell_type": "code",
   "execution_count": 14,
   "id": "2fa8c6ef",
   "metadata": {},
   "outputs": [
    {
     "name": "stdout",
     "output_type": "stream",
     "text": [
      "city          alandi\n",
      "Department        HR\n",
      "Age               19\n",
      "Name: Prasad, dtype: object\n",
      "\n",
      "city              satara\n",
      "Department    PRODUCTION\n",
      "Age                   20\n",
      "Name: Sambhaji, dtype: object\n"
     ]
    }
   ],
   "source": [
    "#if i want two rows then\n",
    "rs2=data1.loc['Prasad']\n",
    "rs3=data1.loc['Sambhaji']\n",
    "print(f\"{rs2}\\n\\n{rs3}\")"
   ]
  },
  {
   "cell_type": "code",
   "execution_count": 15,
   "id": "b4a0994b",
   "metadata": {},
   "outputs": [
    {
     "name": "stdout",
     "output_type": "stream",
     "text": [
      "            city  Department  Age\n",
      "employee                         \n",
      "Prasad    alandi          HR   19\n",
      "Sambhaji  satara  PRODUCTION   20\n",
      "Om        mumbai  ACCOUNTANT   22\n",
      "Tejas      delhi  DEVELOPERS   22\n"
     ]
    }
   ],
   "source": [
    "#retriveing two or more indexes\n",
    "rs4=data1.loc['Prasad':'Tejas']\n",
    "print(rs4)"
   ]
  },
  {
   "cell_type": "markdown",
   "id": "eefd278f",
   "metadata": {},
   "source": [
    "__iloc methood__\n",
    "The Pandas library provides a unique method to retrieve rows from a Data Frame. Dataframe.iloc[] method is used when the index label of a data frame is something other than numeric series of 0, 1, 2, 3….n or in case the user doesn’t know the index label. Rows can be extracted using an imaginary index position which isn’t visible in the data frame.\n",
    "\n",
    "Syntax: pandas.DataFrame.iloc[] "
   ]
  },
  {
   "cell_type": "code",
   "execution_count": 16,
   "id": "239c6d27",
   "metadata": {},
   "outputs": [
    {
     "name": "stdout",
     "output_type": "stream",
     "text": [
      "           city  Department  Age\n",
      "employee                        \n",
      "Tejas     delhi  DEVELOPERS   22\n"
     ]
    }
   ],
   "source": [
    "rs5=data1.iloc[3:4]\n",
    "print(rs5)"
   ]
  },
  {
   "cell_type": "code",
   "execution_count": 17,
   "id": "1db9d8f4",
   "metadata": {},
   "outputs": [
    {
     "name": "stdout",
     "output_type": "stream",
     "text": [
      "            city  Department  Age\n",
      "employee                         \n",
      "Prasad    alandi          HR   19\n",
      "Sambhaji  satara  PRODUCTION   20\n",
      "Om        mumbai  ACCOUNTANT   22\n",
      "Tejas      delhi  DEVELOPERS   22\n"
     ]
    }
   ],
   "source": [
    "rs6=data1.iloc[0:4]\n",
    "print(rs6)"
   ]
  },
  {
   "cell_type": "code",
   "execution_count": 18,
   "id": "15a97c9c",
   "metadata": {},
   "outputs": [
    {
     "name": "stdout",
     "output_type": "stream",
     "text": [
      "            city  Department  Age\n",
      "employee                         \n",
      "Prasad    alandi          HR   19\n",
      "Tejas      delhi  DEVELOPERS   22\n",
      "Prafull   kolkta          QA   21\n"
     ]
    }
   ],
   "source": [
    "rs7=data1.iloc[[0,3,4]]\n",
    "print(rs7)"
   ]
  },
  {
   "cell_type": "code",
   "execution_count": 19,
   "id": "4764bc64",
   "metadata": {},
   "outputs": [
    {
     "name": "stdout",
     "output_type": "stream",
     "text": [
      "            city  Department  Age\n",
      "employee                         \n",
      "Om        mumbai  ACCOUNTANT   22\n",
      "Tejas      delhi  DEVELOPERS   22\n"
     ]
    }
   ],
   "source": [
    "rs8=data1.iloc[2:4]\n",
    "print(rs8)"
   ]
  },
  {
   "cell_type": "code",
   "execution_count": 20,
   "id": "4530b00b",
   "metadata": {},
   "outputs": [
    {
     "name": "stdout",
     "output_type": "stream",
     "text": [
      "   employee   id      city  Department  Age\n",
      "0     Umesh  101      pune       SALES   20\n",
      "1    Prasad  102    alandi          HR   19\n",
      "2  Sambhaji  103    satara  PRODUCTION   20\n",
      "3        Om  104    mumbai  ACCOUNTANT   22\n",
      "4    Vikram  105  bengluar     TESTING   21\n",
      "5     Tejas  106     delhi  DEVELOPERS   22\n",
      "6   Prafull  107    kolkta          QA   21\n"
     ]
    }
   ],
   "source": [
    "print(df)"
   ]
  },
  {
   "cell_type": "code",
   "execution_count": 21,
   "id": "f66b91ac",
   "metadata": {},
   "outputs": [
    {
     "name": "stdout",
     "output_type": "stream",
     "text": [
      "   employee    city\n",
      "0     Umesh    pune\n",
      "2  Sambhaji  satara\n"
     ]
    }
   ],
   "source": [
    "#if in want particular index and particular column\n",
    "rs9=df.loc[[0,2],['employee','city']]\n",
    "print(rs9)"
   ]
  },
  {
   "cell_type": "code",
   "execution_count": 22,
   "id": "3a691aaf",
   "metadata": {},
   "outputs": [
    {
     "name": "stdout",
     "output_type": "stream",
     "text": [
      "       city  Department\n",
      "3    mumbai  ACCOUNTANT\n",
      "4  bengluar     TESTING\n"
     ]
    }
   ],
   "source": [
    "#now i want city & Department of 3,4\n",
    "rs10=df.loc[[3,4],['city','Department']]\n",
    "print(rs10)"
   ]
  },
  {
   "cell_type": "code",
   "execution_count": 23,
   "id": "3454eba7",
   "metadata": {},
   "outputs": [
    {
     "name": "stdout",
     "output_type": "stream",
     "text": [
      "       city  Department\n",
      "0      pune       SALES\n",
      "1    alandi          HR\n",
      "2    satara  PRODUCTION\n",
      "3    mumbai  ACCOUNTANT\n",
      "4  bengluar     TESTING\n",
      "5     delhi  DEVELOPERS\n",
      "6    kolkta          QA\n"
     ]
    }
   ],
   "source": [
    "#now if i want all the indexes only with city & department column\n",
    "rs11=df.loc[:,['city','Department']]\n",
    "print(rs11)"
   ]
  },
  {
   "cell_type": "code",
   "execution_count": 24,
   "id": "9d616aa3",
   "metadata": {},
   "outputs": [
    {
     "name": "stdout",
     "output_type": "stream",
     "text": [
      "   employee  Department\n",
      "0     Umesh       SALES\n",
      "1    Prasad          HR\n",
      "2  Sambhaji  PRODUCTION\n",
      "3        Om  ACCOUNTANT\n",
      "4    Vikram     TESTING\n"
     ]
    }
   ],
   "source": [
    "rs12=df.loc[:4,['employee','Department']]\n",
    "print(rs12)"
   ]
  },
  {
   "cell_type": "code",
   "execution_count": null,
   "id": "d27d3315",
   "metadata": {},
   "outputs": [],
   "source": []
  }
 ],
 "metadata": {
  "kernelspec": {
   "display_name": "Python 3 (ipykernel)",
   "language": "python",
   "name": "python3"
  },
  "language_info": {
   "codemirror_mode": {
    "name": "ipython",
    "version": 3
   },
   "file_extension": ".py",
   "mimetype": "text/x-python",
   "name": "python",
   "nbconvert_exporter": "python",
   "pygments_lexer": "ipython3",
   "version": "3.10.7"
  }
 },
 "nbformat": 4,
 "nbformat_minor": 5
}
